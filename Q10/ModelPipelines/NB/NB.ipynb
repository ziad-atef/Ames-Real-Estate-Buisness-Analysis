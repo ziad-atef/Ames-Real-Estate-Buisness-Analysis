{
 "cells": [
  {
   "cell_type": "code",
   "execution_count": 1,
   "metadata": {},
   "outputs": [
    {
     "name": "stdout",
     "output_type": "stream",
     "text": [
      "columns having only 2 unique values: 3\n",
      "['Street', 'Utilities', 'CentralAir']\n",
      "columns having only <=10 unique values: 33\n",
      "['MSZoning', 'LotShape', 'LandContour', 'LotConfig', 'LandSlope', 'Condition1', 'Condition2', 'BldgType', 'HouseStyle', 'RoofStyle', 'RoofMatl', 'MasVnrType', 'ExterQual', 'ExterCond', 'Foundation', 'BsmtQual', 'BsmtCond', 'BsmtExposure', 'BsmtFinType1', 'BsmtFinType2', 'Heating', 'HeatingQC', 'Electrical', 'KitchenQual', 'Functional', 'FireplaceQu', 'GarageType', 'GarageFinish', 'GarageQual', 'GarageCond', 'PavedDrive', 'SaleType', 'SaleCondition']\n",
      "columns having only <=10 unique values: 3\n",
      "['Neighborhood', 'Exterior1st', 'Exterior2nd']\n"
     ]
    }
   ],
   "source": [
    "# Load the dataset\n",
    "import sys\n",
    "sys.path.append('../../')\n",
    "from sklearn.naive_bayes import GaussianNB\n",
    "from DataPreparation.Ingestion.Ingestion import read_data\n",
    "from DataPreparation.Preprocessing.Preprocessing import preprocess_data\n",
    "\n",
    "df = read_data(\n",
    "    path='../../../DataFiles/house-prices-advanced-regression-techniques/')\n",
    "\n",
    "x_train_p, y_train, x_val_p, y_val = preprocess_data(df)\n"
   ]
  },
  {
   "cell_type": "code",
   "execution_count": 2,
   "metadata": {},
   "outputs": [
    {
     "name": "stdout",
     "output_type": "stream",
     "text": [
      "Accuracy: 0.3315068493150685\n",
      "F1 Score: 0.3315068493150685\n"
     ]
    }
   ],
   "source": [
    "# Intialize the model (Naive Bayes)\n",
    "model = GaussianNB()\n",
    "\n",
    "# Fit the model\n",
    "model.fit(x_train_p, y_train)\n",
    "\n",
    "# Predict\n",
    "y_pred = model.predict(x_val_p)\n",
    "\n",
    "# print accuracy\n",
    "print(\"Accuracy:\", model.score(x_val_p, y_val))\n",
    "\n",
    "# print f1 score\n",
    "from sklearn.metrics import f1_score\n",
    "print(\"F1 Score:\", f1_score(y_val, y_pred, average='micro'))"
   ]
  }
 ],
 "metadata": {
  "kernelspec": {
   "display_name": "base",
   "language": "python",
   "name": "python3"
  },
  "language_info": {
   "codemirror_mode": {
    "name": "ipython",
    "version": 3
   },
   "file_extension": ".py",
   "mimetype": "text/x-python",
   "name": "python",
   "nbconvert_exporter": "python",
   "pygments_lexer": "ipython3",
   "version": "3.10.6"
  },
  "orig_nbformat": 4,
  "vscode": {
   "interpreter": {
    "hash": "40d3a090f54c6569ab1632332b64b2c03c39dcf918b08424e98f38b5ae0af88f"
   }
  }
 },
 "nbformat": 4,
 "nbformat_minor": 2
}
