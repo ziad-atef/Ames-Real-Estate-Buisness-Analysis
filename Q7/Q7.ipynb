{
 "cells": [
  {
   "cell_type": "code",
   "execution_count": 11,
   "metadata": {},
   "outputs": [],
   "source": [
    "import pandas as pd\n",
    "from sklearn.feature_selection import f_oneway"
   ]
  },
  {
   "attachments": {},
   "cell_type": "markdown",
   "metadata": {},
   "source": [
    "## Q7. We already know that Regular lot shape has an verage price of 164754 , Can we generalize that for other lot shapes?"
   ]
  },
  {
   "cell_type": "code",
   "execution_count": 12,
   "metadata": {},
   "outputs": [],
   "source": [
    "df = pd.read_csv(\n",
    "    './../DataFiles/house-prices-advanced-regression-techniques/train.csv')"
   ]
  },
  {
   "cell_type": "code",
   "execution_count": 13,
   "metadata": {},
   "outputs": [
    {
     "name": "stdout",
     "output_type": "stream",
     "text": [
      "LotShape\n",
      "IR1    206101.665289\n",
      "IR2    239833.365854\n",
      "IR3    216036.500000\n",
      "Reg    164754.818378\n",
      "Name: SalePrice, dtype: float64\n"
     ]
    }
   ],
   "source": [
    "# Get and print mean of sale price for each value of lot shape\n",
    "print(df.groupby('LotShape')['SalePrice'].mean())\n"
   ]
  },
  {
   "cell_type": "code",
   "execution_count": 14,
   "metadata": {},
   "outputs": [
    {
     "name": "stdout",
     "output_type": "stream",
     "text": [
      "F statistic: [40.13285166]\n",
      "P-value: [6.44752385e-25]\n",
      "There are significant differences between the groups\n"
     ]
    }
   ],
   "source": [
    "lot_shapes = df[\"LotShape\"]\n",
    "sale_price = df[\"SalePrice\"]\n",
    "\n",
    "f_statistic, p_value = f_oneway(\n",
    "    *[sale_price[lot_shapes == shape] for shape in lot_shapes.unique()])\n",
    "\n",
    "print('F statistic:', f_statistic)\n",
    "print('P-value:', p_value)\n",
    "\n",
    "if p_value < 0.05:\n",
    "    print(\"There are significant differences between the groups\")\n",
    "else:\n",
    "    print(\"There are no significant differences between the groups\")"
   ]
  },
  {
   "attachments": {},
   "cell_type": "markdown",
   "metadata": {},
   "source": [
    "Answer:\n",
    "------------\n",
    "It is not possible to generalize the average price of regular lot shape for other lot shapes. This is because the average price of regular lot shape is calculated based on the data available in the dataset. If the dataset is not representative of the population, then the average price of regular lot shape cannot be generalized for other lot shapes."
   ]
  }
 ],
 "metadata": {
  "kernelspec": {
   "display_name": "Python 3",
   "language": "python",
   "name": "python3"
  },
  "language_info": {
   "codemirror_mode": {
    "name": "ipython",
    "version": 3
   },
   "file_extension": ".py",
   "mimetype": "text/x-python",
   "name": "python",
   "nbconvert_exporter": "python",
   "pygments_lexer": "ipython3",
   "version": "3.10.6"
  },
  "orig_nbformat": 4
 },
 "nbformat": 4,
 "nbformat_minor": 2
}
