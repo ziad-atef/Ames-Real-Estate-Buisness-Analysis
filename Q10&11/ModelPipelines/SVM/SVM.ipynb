{
 "cells": [
  {
   "cell_type": "code",
   "execution_count": 19,
   "metadata": {},
   "outputs": [],
   "source": [
    "import sys\n",
    "sys.path.append('../../')\n",
    "from DataPreparation.Ingestion.Ingestion import read_data\n",
    "from DataPreparation.Preprocessing.Preprocessing import preprocess_data\n",
    "from sklearn.metrics import f1_score, confusion_matrix\n",
    "from sklearn import svm"
   ]
  },
  {
   "attachments": {},
   "cell_type": "markdown",
   "metadata": {},
   "source": [
    "#### Ingestion"
   ]
  },
  {
   "cell_type": "code",
   "execution_count": 20,
   "metadata": {},
   "outputs": [],
   "source": [
    "df = read_data()"
   ]
  },
  {
   "cell_type": "code",
   "execution_count": 21,
   "metadata": {},
   "outputs": [
    {
     "name": "stdout",
     "output_type": "stream",
     "text": [
      "columns having only 2 unique values: 3\n",
      "['Street', 'Utilities', 'CentralAir']\n",
      "columns having only <=10 unique values: 33\n",
      "['MSZoning', 'LotShape', 'LandContour', 'LotConfig', 'LandSlope', 'Condition1', 'Condition2', 'BldgType', 'HouseStyle', 'RoofStyle', 'RoofMatl', 'MasVnrType', 'ExterQual', 'ExterCond', 'Foundation', 'BsmtQual', 'BsmtCond', 'BsmtExposure', 'BsmtFinType1', 'BsmtFinType2', 'Heating', 'HeatingQC', 'Electrical', 'KitchenQual', 'Functional', 'FireplaceQu', 'GarageType', 'GarageFinish', 'GarageQual', 'GarageCond', 'PavedDrive', 'SaleType', 'SaleCondition']\n",
      "columns having only <=10 unique values: 3\n",
      "['Neighborhood', 'Exterior1st', 'Exterior2nd']\n",
      "(4275, 139)\n"
     ]
    }
   ],
   "source": [
    "x_train_p, y_train, x_val_p, y_val = preprocess_data(df)\n",
    "\n",
    "print(x_train_p.shape)"
   ]
  },
  {
   "attachments": {},
   "cell_type": "markdown",
   "metadata": {},
   "source": [
    "#### Initiating the Model"
   ]
  },
  {
   "cell_type": "code",
   "execution_count": 22,
   "metadata": {},
   "outputs": [
    {
     "data": {
      "text/html": [
       "<style>#sk-container-id-4 {color: black;background-color: white;}#sk-container-id-4 pre{padding: 0;}#sk-container-id-4 div.sk-toggleable {background-color: white;}#sk-container-id-4 label.sk-toggleable__label {cursor: pointer;display: block;width: 100%;margin-bottom: 0;padding: 0.3em;box-sizing: border-box;text-align: center;}#sk-container-id-4 label.sk-toggleable__label-arrow:before {content: \"▸\";float: left;margin-right: 0.25em;color: #696969;}#sk-container-id-4 label.sk-toggleable__label-arrow:hover:before {color: black;}#sk-container-id-4 div.sk-estimator:hover label.sk-toggleable__label-arrow:before {color: black;}#sk-container-id-4 div.sk-toggleable__content {max-height: 0;max-width: 0;overflow: hidden;text-align: left;background-color: #f0f8ff;}#sk-container-id-4 div.sk-toggleable__content pre {margin: 0.2em;color: black;border-radius: 0.25em;background-color: #f0f8ff;}#sk-container-id-4 input.sk-toggleable__control:checked~div.sk-toggleable__content {max-height: 200px;max-width: 100%;overflow: auto;}#sk-container-id-4 input.sk-toggleable__control:checked~label.sk-toggleable__label-arrow:before {content: \"▾\";}#sk-container-id-4 div.sk-estimator input.sk-toggleable__control:checked~label.sk-toggleable__label {background-color: #d4ebff;}#sk-container-id-4 div.sk-label input.sk-toggleable__control:checked~label.sk-toggleable__label {background-color: #d4ebff;}#sk-container-id-4 input.sk-hidden--visually {border: 0;clip: rect(1px 1px 1px 1px);clip: rect(1px, 1px, 1px, 1px);height: 1px;margin: -1px;overflow: hidden;padding: 0;position: absolute;width: 1px;}#sk-container-id-4 div.sk-estimator {font-family: monospace;background-color: #f0f8ff;border: 1px dotted black;border-radius: 0.25em;box-sizing: border-box;margin-bottom: 0.5em;}#sk-container-id-4 div.sk-estimator:hover {background-color: #d4ebff;}#sk-container-id-4 div.sk-parallel-item::after {content: \"\";width: 100%;border-bottom: 1px solid gray;flex-grow: 1;}#sk-container-id-4 div.sk-label:hover label.sk-toggleable__label {background-color: #d4ebff;}#sk-container-id-4 div.sk-serial::before {content: \"\";position: absolute;border-left: 1px solid gray;box-sizing: border-box;top: 0;bottom: 0;left: 50%;z-index: 0;}#sk-container-id-4 div.sk-serial {display: flex;flex-direction: column;align-items: center;background-color: white;padding-right: 0.2em;padding-left: 0.2em;position: relative;}#sk-container-id-4 div.sk-item {position: relative;z-index: 1;}#sk-container-id-4 div.sk-parallel {display: flex;align-items: stretch;justify-content: center;background-color: white;position: relative;}#sk-container-id-4 div.sk-item::before, #sk-container-id-4 div.sk-parallel-item::before {content: \"\";position: absolute;border-left: 1px solid gray;box-sizing: border-box;top: 0;bottom: 0;left: 50%;z-index: -1;}#sk-container-id-4 div.sk-parallel-item {display: flex;flex-direction: column;z-index: 1;position: relative;background-color: white;}#sk-container-id-4 div.sk-parallel-item:first-child::after {align-self: flex-end;width: 50%;}#sk-container-id-4 div.sk-parallel-item:last-child::after {align-self: flex-start;width: 50%;}#sk-container-id-4 div.sk-parallel-item:only-child::after {width: 0;}#sk-container-id-4 div.sk-dashed-wrapped {border: 1px dashed gray;margin: 0 0.4em 0.5em 0.4em;box-sizing: border-box;padding-bottom: 0.4em;background-color: white;}#sk-container-id-4 div.sk-label label {font-family: monospace;font-weight: bold;display: inline-block;line-height: 1.2em;}#sk-container-id-4 div.sk-label-container {text-align: center;}#sk-container-id-4 div.sk-container {/* jupyter's `normalize.less` sets `[hidden] { display: none; }` but bootstrap.min.css set `[hidden] { display: none !important; }` so we also need the `!important` here to be able to override the default hidden behavior on the sphinx rendered scikit-learn.org. See: https://github.com/scikit-learn/scikit-learn/issues/21755 */display: inline-block !important;position: relative;}#sk-container-id-4 div.sk-text-repr-fallback {display: none;}</style><div id=\"sk-container-id-4\" class=\"sk-top-container\"><div class=\"sk-text-repr-fallback\"><pre>SVC()</pre><b>In a Jupyter environment, please rerun this cell to show the HTML representation or trust the notebook. <br />On GitHub, the HTML representation is unable to render, please try loading this page with nbviewer.org.</b></div><div class=\"sk-container\" hidden><div class=\"sk-item\"><div class=\"sk-estimator sk-toggleable\"><input class=\"sk-toggleable__control sk-hidden--visually\" id=\"sk-estimator-id-4\" type=\"checkbox\" checked><label for=\"sk-estimator-id-4\" class=\"sk-toggleable__label sk-toggleable__label-arrow\">SVC</label><div class=\"sk-toggleable__content\"><pre>SVC()</pre></div></div></div></div></div>"
      ],
      "text/plain": [
       "SVC()"
      ]
     },
     "execution_count": 22,
     "metadata": {},
     "output_type": "execute_result"
    }
   ],
   "source": [
    "# Create a SVM classifier with linear kernel\n",
    "model = svm.SVC(kernel='rbf')\n",
    "\n",
    "# Fit the model to the training data\n",
    "model.fit(x_train_p, y_train)"
   ]
  },
  {
   "attachments": {},
   "cell_type": "markdown",
   "metadata": {},
   "source": [
    "#### Validating the Model"
   ]
  },
  {
   "cell_type": "code",
   "execution_count": 26,
   "metadata": {},
   "outputs": [
    {
     "name": "stdout",
     "output_type": "stream",
     "text": [
      "Accuracy score:  0.10136986301369863\n",
      "F1 score:  0.09706972738465364\n",
      "Confusion matrix: \n",
      " [[ 2  0  0  0  0  0  0  0  0  0  0  0  0  2  0  1  0  0  0  0  0  2  0  0\n",
      "   0]\n",
      " [ 0  0  0  0  0  0  0  0  0  0  0  0  0  0  0  0  0  0  0  0  0  0  0  0\n",
      "   0]\n",
      " [ 0  0  2  0  0  0  0  0  0  0  1  0  0  0  0  0  0  0  0  0  0  0  0  0\n",
      "   0]\n",
      " [ 0  3  3  0  0  0  0  0  0  0  5  0  0  4  0  0  0  0  0  0  0  0  0  0\n",
      "   0]\n",
      " [ 2  0  0  0  3  1  0  0  0  0  0  0  0  1  0  1  0  0  0  1  0  0  0  0\n",
      "   0]\n",
      " [14  5  0  0  0  4  0  0  0  0  0  1  0  5  0  4  0  0  0  1  0  2  0  0\n",
      "   0]\n",
      " [ 4  0  1  0  0  0  0  0  1  0  1  1  0  0  0  3  0  0  0  0  0  0  0  0\n",
      "   0]\n",
      " [ 0  5  7  0  0  0  0  0  0  0  5  0  0  4  0  0  0  0  0  1  0  0  0  0\n",
      "   0]\n",
      " [13  0  0  0  1  0  0  0  1  0  0  0  0  0  5  0  0  0  0  0  0  2  0  0\n",
      "   0]\n",
      " [ 1  0  5  0  0  0  0  0  0  0  4  0  0  1  0  0  0  0  0  0  0  0  0  0\n",
      "   0]\n",
      " [ 0  0  1  0  0  0  0  0  0  0  0  0  0  0  0  0  0  0  0  0  0  0  0  0\n",
      "   0]\n",
      " [ 2  3  0  0  0  1  0  0  0  0  1  2  0  3  0  0  0  0  0  1  0  0  0  0\n",
      "   0]\n",
      " [ 4  8  7  0  1  0  0  0  0  1  2  3  0 22  4  0  0  0  0  2  0  0  0  0\n",
      "   0]\n",
      " [ 0  1  0  0  0  0  0  0  0  0  0  0  0  0  0  0  0  0  0  0  0  0  0  0\n",
      "   0]\n",
      " [ 8  0  0  0  0  1  0  0  0  0  0  1  0  0  3  0  0  0  0  0  0  1  0  0\n",
      "   0]\n",
      " [ 1  0  0  0  0  1  0  0  0  0  0  0  0  0  0  8  1  0  0  0  0  0  1  0\n",
      "   1]\n",
      " [ 2  0  0  0  0  0  0  0  0  0  0  0  0  0  0 11  4  0  0  0  0  0  2  0\n",
      "   1]\n",
      " [ 0  4  9  0  0  0  0  0  0  0  5  2  0  7  0  1  0  0  0  4  0  0  0  0\n",
      "   0]\n",
      " [ 0  3  0  0  0  0  0  0  0  0  0  0  0  1  0  0  0  0  0  0  0  0  0  0\n",
      "   0]\n",
      " [ 1  7  2  0  0  0  0  0  0  0  0  0  0  4  1  0  0  0  0  2  0  0  0  0\n",
      "   0]\n",
      " [ 6  1  3  0  0  0  0  0  1  0  0  0  0  3  0  3  0  0  0  1  0  1  0  0\n",
      "   1]\n",
      " [11  0  0  0  0  2  0  0  0  0  0  0  0  0  0  4  0  0  0  0  0  5  0  0\n",
      "   0]\n",
      " [ 3  0  0  0  0  0  0  0  0  0  0  0  0  0  0  1  1  0  0  0  0  0  1  0\n",
      "   0]\n",
      " [ 5  0  0  0  0  0  0  0  0  0  0  1  0  0  0  4  0  0  0  0  0  0  0  0\n",
      "   0]\n",
      " [ 1  0  0  0  0  0  0  0  0  0  0  1  0  0  0  0  0  0  0  0  0  0  0  0\n",
      "   0]]\n"
     ]
    }
   ],
   "source": [
    "# Predict the labels of the test data\n",
    "y_pred = model.predict(x_val_p)\n",
    "9\n",
    "# Print the accuracy score of the model on the test data\n",
    "print(\"Accuracy score: \", model.score(x_val_p, y_val))\n",
    "\n",
    "# Print F1 score\n",
    "print(\"F1 score: \", f1_score(y_val, y_pred, average=\"macro\"))\n",
    "\n",
    "# Print confusion matrix\n",
    "print(\"Confusion matrix: \\n\", confusion_matrix(y_val, y_pred))"
   ]
  },
  {
   "cell_type": "code",
   "execution_count": 24,
   "metadata": {},
   "outputs": [
    {
     "name": "stdout",
     "output_type": "stream",
     "text": [
      "Accuracy score:  0.2\n",
      "F1 score:  0.12041755219212197\n",
      "Confusion matrix: \n",
      " [[171   0   0   0   0   0   0   0   0   0   0   0   0   0   0   0   0   0\n",
      "    0   0   0   0   0   0   0]\n",
      " [  0   0  94   0   0   0   0   0   0   0   0   0   0  77   0   0   0   0\n",
      "    0   0   0   0   0   0   0]\n",
      " [  0   0 109   0   0   0   0   0   0   0  62   0   0   0   0   0   0   0\n",
      "    0   0   0   0   0   0   0]\n",
      " [ 14  42  64   0   5   0   0   0   0   0  24   0   0  13   9   0   0   0\n",
      "    0   0   0   0   0   0   0]\n",
      " [ 46   9   0   0  52   8   0   0  12   0   0   9   0   0  20   8   0   0\n",
      "    0   7   0   0   0   0   0]\n",
      " [ 79   7   6   0   3  14   0   0   0   0   0   0   0  19   4  13   1   0\n",
      "    0   9   0  12   0   0   4]\n",
      " [ 19   0   0   0  24  21   0   0   0   0   3  11   0  42  10  26   3   0\n",
      "    0   0   0  12   0   0   0]\n",
      " [ 15  16  42   0   3   3   0   0   0   1  38   1   0  24   7   7   0   0\n",
      "    0  10   0   4   0   0   0]\n",
      " [ 84   0   0   0   2  24   0   0   0   0   0   3   0  12  30   9   0   0\n",
      "    0   3   0   4   0   0   0]\n",
      " [  0  25  65   0   0   0   0   0   0   0  63   0   0  18   0   0   0   0\n",
      "    0   0   0   0   0   0   0]\n",
      " [  0  25   7   0   0   0   0   0   0   0 124   0   0  15   0   0   0   0\n",
      "    0   0   0   0   0   0   0]\n",
      " [ 48  18   5   0   0   7   0   0   0   0   2   0   0  34  24   4   0   0\n",
      "    0  29   0   0   0   0   0]\n",
      " [ 15  31  29   0   3   3   0   0   0   2   6   4   0  56  11   2   0   0\n",
      "    0   8   0   1   0   0   0]\n",
      " [  0  25   0   0   0   0   0   0   0   0   0   0   0 146   0   0   0   0\n",
      "    0   0   0   0   0   0   0]\n",
      " [ 69   6   0   0   7   2   0   0   6   0   2  11   0  31  23   5   0   0\n",
      "    0   0   0   7   0   0   2]\n",
      " [  0   0   0   0  16   6   0   0   0   0   0   0   0   0   0 128  21   0\n",
      "    0   0   0   0   0   0   0]\n",
      " [ 37   0   0   0   0   0   0   0   0   0   0   0   0   3   0  85  20   0\n",
      "    0   0   0  16   6   0   4]\n",
      " [  3  20  55   0   0   0   0   0   0   6  33   0   0  26   5   6   0   0\n",
      "    0  11   0   0   3   0   3]\n",
      " [ 34  35  25   0   0   0   0   0   0   0  13   0   0  55   9   0   0   0\n",
      "    0   0   0   0   0   0   0]\n",
      " [  0  51  10   0   0   0   0   0   4   4  12   7   0  50  10   0   0   0\n",
      "    0  23   0   0   0   0   0]\n",
      " [ 57   0  13   0   0  14   0   0   0   0   8   6   0  43   0  16   0   0\n",
      "    0   0   0  14   0   0   0]\n",
      " [ 62   0   0   0   0  17   0   0   0   0   0   0   0  25   0  35   1   0\n",
      "    0   0   0  26   0   0   5]\n",
      " [ 34   0   0   0  10   0   0   0   0   0   0   0   0   0   0  65  10   0\n",
      "    0   0   0  33  19   0   0]\n",
      " [ 36   0   0   0  14   6   0   0   0   0   0   0   0   0  25  69   0   0\n",
      "    0   5   0  16   0   0   0]\n",
      " [ 60   0   0   0  19   0   0   0   0   0   0  16   0   0   0  76   0   0\n",
      "    0   0   0   0   0   0   0]]\n"
     ]
    }
   ],
   "source": [
    "# Predict the labels of the test data\n",
    "y_pred = model.predict(x_train_p)\n",
    "\n",
    "# Print the accuracy score of the model on the test data\n",
    "print(\"Accuracy score: \", model.score(x_train_p, y_train))\n",
    "\n",
    "# Print F1 score\n",
    "print(\"F1 score: \", f1_score(y_train, y_pred, average=\"macro\"))\n",
    "\n",
    "# Print confusion matrix\n",
    "print(\"Confusion matrix: \\n\", confusion_matrix(y_train, y_pred))\n"
   ]
  },
  {
   "attachments": {},
   "cell_type": "markdown",
   "metadata": {},
   "source": [
    "#### Saving the Model"
   ]
  },
  {
   "cell_type": "code",
   "execution_count": null,
   "metadata": {},
   "outputs": [],
   "source": []
  }
 ],
 "metadata": {
  "kernelspec": {
   "display_name": "Python 3",
   "language": "python",
   "name": "python3"
  },
  "language_info": {
   "codemirror_mode": {
    "name": "ipython",
    "version": 3
   },
   "file_extension": ".py",
   "mimetype": "text/x-python",
   "name": "python",
   "nbconvert_exporter": "python",
   "pygments_lexer": "ipython3",
   "version": "3.10.6"
  },
  "orig_nbformat": 4
 },
 "nbformat": 4,
 "nbformat_minor": 2
}
