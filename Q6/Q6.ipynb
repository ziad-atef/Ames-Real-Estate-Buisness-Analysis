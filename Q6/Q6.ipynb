{
 "cells": [
  {
   "cell_type": "code",
   "execution_count": 1,
   "metadata": {},
   "outputs": [],
   "source": [
    "import pandas as pd\n",
    "from sklearn.feature_selection import f_oneway"
   ]
  },
  {
   "attachments": {},
   "cell_type": "markdown",
   "metadata": {},
   "source": [
    "## Q6. given that normal conditions has average sale price of 184495 , Is that valid for other conditions?"
   ]
  },
  {
   "cell_type": "code",
   "execution_count": 2,
   "metadata": {},
   "outputs": [],
   "source": [
    "df = pd.read_csv(\n",
    "    './../DataFiles/house-prices-advanced-regression-techniques/train.csv')"
   ]
  },
  {
   "cell_type": "code",
   "execution_count": 3,
   "metadata": {},
   "outputs": [
    {
     "name": "stdout",
     "output_type": "stream",
     "text": [
      "Artery    241591.666667\n",
      "Feedr     263642.148148\n",
      "Norm      365664.897600\n",
      "PosA      550875.000000\n",
      "PosN      500059.210526\n",
      "RRAe      328400.000000\n",
      "RRAn      321301.615385\n",
      "RRNe                NaN\n",
      "RRNn      309150.000000\n",
      "Name: SalePrice, dtype: float64\n"
     ]
    }
   ],
   "source": [
    "# Get and print mean of sale price for each value of Condition1 or Condition2\n",
    "print(df.groupby('Condition1')['SalePrice'].mean(\n",
    ")+df.groupby('Condition2')['SalePrice'].mean())\n"
   ]
  },
  {
   "cell_type": "code",
   "execution_count": 4,
   "metadata": {},
   "outputs": [
    {
     "name": "stdout",
     "output_type": "stream",
     "text": [
      "F statistic: [3.94207826]\n",
      "P-value: [1.93692904e-07]\n",
      "There are significant differences between the groups\n"
     ]
    }
   ],
   "source": [
    "conditions = df[[\"Condition1\", \"Condition2\"]]\n",
    "sale_price = df[\"SalePrice\"]\n",
    "\n",
    "f_statistic, p_value = f_oneway(*[sale_price[conditions[col] == condition]\n",
    "                                for col in conditions.columns for condition in conditions[col].unique()])\n",
    "\n",
    "print('F statistic:', f_statistic)\n",
    "print('P-value:', p_value)\n",
    "\n",
    "if p_value < 0.05:\n",
    "    print(\"There are significant differences between the groups\")\n",
    "else:\n",
    "    print(\"There are no significant differences between the groups\")\n"
   ]
  },
  {
   "attachments": {},
   "cell_type": "markdown",
   "metadata": {},
   "source": [
    "Answer:\n",
    "------------\n",
    "It is not possible to generalize the average sale price of 184495 for other conditions."
   ]
  }
 ],
 "metadata": {
  "kernelspec": {
   "display_name": "Python 3",
   "language": "python",
   "name": "python3"
  },
  "language_info": {
   "codemirror_mode": {
    "name": "ipython",
    "version": 3
   },
   "file_extension": ".py",
   "mimetype": "text/x-python",
   "name": "python",
   "nbconvert_exporter": "python",
   "pygments_lexer": "ipython3",
   "version": "3.10.6"
  },
  "orig_nbformat": 4
 },
 "nbformat": 4,
 "nbformat_minor": 2
}
